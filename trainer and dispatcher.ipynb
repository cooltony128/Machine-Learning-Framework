{
 "cells": [
  {
   "cell_type": "markdown",
   "metadata": {},
   "source": [
    "# <center>Training"
   ]
  },
  {
   "cell_type": "code",
   "execution_count": 4,
   "metadata": {},
   "outputs": [],
   "source": [
    "import pandas as pd\n",
    "import numpy as np\n",
    "import matplotlib.pyplot as plt\n",
    "from sklearn.ensemble import RandomForestClassifier\n",
    "from sklearn import preprocessing\n",
    "import warnings\n",
    "from sklearn import metrics\n",
    "warnings.simplefilter(action='ignore', category=FutureWarning)"
   ]
  },
  {
   "cell_type": "code",
   "execution_count": 32,
   "metadata": {},
   "outputs": [],
   "source": [
    "def run_model(fold):\n",
    "    df = pd.read_csv('TRAIN_CLEANED_FOLDS.csv')\n",
    "    #extract training set and validation set\n",
    "    train_df = df[df.kfold != fold]\n",
    "    valid_df = df[df.kfold == fold]\n",
    "    #extract labels for each set\n",
    "    y_train = train_df.label.values\n",
    "    y_valid = valid_df.label.values\n",
    "    #drop unnecessary columns from training set and validation set\n",
    "    train_df = train_df.drop(['label','kfold'], axis=1)\n",
    "    valid_df = valid_df.drop(['label','kfold'], axis=1)\n",
    "    #maintain the order of the variables, maybe not needed\n",
    "    valid_df = valid_df[train_df.columns]\n",
    "    #now we are ready to train\n",
    "    #---------------------------------------------------------------\n",
    "\n",
    "    #training, you can use any model you want, here we use a random forest classifier because it's fast\n",
    "    rfc = RandomForestClassifier(n_estimators = 100, n_jobs=-1, verbose=0, random_state=128) \n",
    "    rfc.fit(train_df, y_train)\n",
    "    preds = rfc.predict(valid_df)\n",
    "    print('the score you had for this fold is: ', metrics.accuracy_score(preds, y_valid))"
   ]
  },
  {
   "cell_type": "code",
   "execution_count": 33,
   "metadata": {},
   "outputs": [
    {
     "name": "stdout",
     "output_type": "stream",
     "text": [
      "the score you had for this fold is:  0.8836159233321047\n"
     ]
    }
   ],
   "source": [
    "#a quick demo of how the above function works\n",
    "run_model(fold=0)"
   ]
  },
  {
   "cell_type": "markdown",
   "metadata": {},
   "source": [
    "# <center> Dispatcher + updated Training"
   ]
  },
  {
   "cell_type": "code",
   "execution_count": 1,
   "metadata": {},
   "outputs": [],
   "source": [
    "import sklearn.ensemble as ensemble\n",
    "import joblib\n",
    "MODELS = {\n",
    "    'randomforest': ensemble.RandomForestClassifier(n_estimators=100, n_jobs=-1, verbose=0),\n",
    "    'extratrees': ensemble.ExtraTreesClassifier(n_estimators=100, n_jobs=-1, verbose=0),\n",
    "}"
   ]
  },
  {
   "cell_type": "code",
   "execution_count": 2,
   "metadata": {},
   "outputs": [],
   "source": [
    "def run_model(fold, model):\n",
    "    df = pd.read_csv('TRAIN_CLEANED_FOLDS.csv')\n",
    "    #extract training set and validation set\n",
    "    train_df = df[df.kfold != 0]\n",
    "    valid_df = df[df.kfold == 0]\n",
    "    #extract labels for each set\n",
    "    y_train = train_df.label.values\n",
    "    y_valid = valid_df.label.values\n",
    "    #drop unnecessary columns from training set and validation set\n",
    "    train_df = train_df.drop(['label','kfold'], axis=1)\n",
    "    valid_df = valid_df.drop(['label','kfold'], axis=1)\n",
    "    #maintain the order of the variables, maybe not needed\n",
    "    valid_df = valid_df[train_df.columns]\n",
    "    #now we are ready to train\n",
    "    #---------------------------------------------------------------\n",
    "\n",
    "    #training, you can use any model you want, here we use a random forest classifier because it's fast\n",
    "    rfc = model\n",
    "    rfc.fit(train_df, y_train)\n",
    "    preds = rfc.predict(valid_df)\n",
    "    print('the score you had for this fold is: ', metrics.accuracy_score(preds, y_valid))\n",
    "    \n",
    "    model_name = str(model)[:10]\n",
    "    joblib.dump(rfc,f'models/{model_name}_{fold}.pkl') #save it to a pkl file\n",
    "    joblib.dump(train_df.columns, f\"models/{model_name}_{fold}_columns.pkl\")"
   ]
  },
  {
   "cell_type": "code",
   "execution_count": 5,
   "metadata": {},
   "outputs": [
    {
     "name": "stdout",
     "output_type": "stream",
     "text": [
      "the score you had for this fold is:  0.8865646885366752\n"
     ]
    }
   ],
   "source": [
    "run_model(fold=0, model=MODELS['randomforest'])"
   ]
  },
  {
   "cell_type": "code",
   "execution_count": 6,
   "metadata": {},
   "outputs": [
    {
     "name": "stdout",
     "output_type": "stream",
     "text": [
      "the score you had for this fold is:  0.8862882417987468\n"
     ]
    }
   ],
   "source": [
    "run_model(fold=1, model=MODELS['randomforest'])"
   ]
  },
  {
   "cell_type": "code",
   "execution_count": 7,
   "metadata": {},
   "outputs": [
    {
     "name": "stdout",
     "output_type": "stream",
     "text": [
      "the score you had for this fold is:  0.8851824548470328\n"
     ]
    }
   ],
   "source": [
    "run_model(fold=2, model=MODELS['randomforest'])"
   ]
  },
  {
   "cell_type": "code",
   "execution_count": 8,
   "metadata": {},
   "outputs": [
    {
     "name": "stdout",
     "output_type": "stream",
     "text": [
      "the score you had for this fold is:  0.8849060081091044\n"
     ]
    }
   ],
   "source": [
    "run_model(fold=3, model=MODELS['randomforest'])"
   ]
  },
  {
   "cell_type": "code",
   "execution_count": 9,
   "metadata": {},
   "outputs": [
    {
     "name": "stdout",
     "output_type": "stream",
     "text": [
      "the score you had for this fold is:  0.8838923700700332\n"
     ]
    }
   ],
   "source": [
    "run_model(fold=4, model=MODELS['randomforest'])"
   ]
  },
  {
   "cell_type": "markdown",
   "metadata": {},
   "source": [
    "now we have 5 models in the folder, let's create an inference"
   ]
  }
 ],
 "metadata": {
  "kernelspec": {
   "display_name": "Python 3",
   "language": "python",
   "name": "python3"
  },
  "language_info": {
   "codemirror_mode": {
    "name": "ipython",
    "version": 3
   },
   "file_extension": ".py",
   "mimetype": "text/x-python",
   "name": "python",
   "nbconvert_exporter": "python",
   "pygments_lexer": "ipython3",
   "version": "3.7.4"
  },
  "toc": {
   "base_numbering": 1,
   "nav_menu": {},
   "number_sections": true,
   "sideBar": true,
   "skip_h1_title": true,
   "title_cell": "Table of Contents",
   "title_sidebar": "Contents",
   "toc_cell": false,
   "toc_position": {
    "height": "calc(100% - 180px)",
    "left": "10px",
    "top": "150px",
    "width": "308.5597839355469px"
   },
   "toc_section_display": true,
   "toc_window_display": false
  }
 },
 "nbformat": 4,
 "nbformat_minor": 2
}
